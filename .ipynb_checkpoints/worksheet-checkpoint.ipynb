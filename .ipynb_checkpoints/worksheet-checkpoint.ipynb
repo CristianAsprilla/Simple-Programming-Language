{
 "cells": [
  {
   "cell_type": "markdown",
   "id": "f2dd921e-534b-4e5c-9c36-492f72910813",
   "metadata": {
    "editable": false
   },
   "source": [
    "# Assignment 3"
   ]
  },
  {
   "cell_type": "code",
   "execution_count": 2,
   "id": "1b0a1d9194974564",
   "metadata": {
    "ExecuteTime": {
     "end_time": "2024-04-14T23:07:28.301171Z",
     "start_time": "2024-04-14T23:07:28.296849Z"
    }
   },
   "outputs": [],
   "source": [
    "// [THIS IS READ-ONLY]\n",
    "@file:DependsOn(\"/antlr-4.11.1-complete.jar\")\n",
    "@file:DependsOn(\"./target\")"
   ]
  },
  {
   "cell_type": "code",
   "execution_count": 3,
   "id": "4255e4eab4241b98",
   "metadata": {
    "ExecuteTime": {
     "end_time": "2024-04-14T23:07:28.366652Z",
     "start_time": "2024-04-14T23:07:28.363186Z"
    }
   },
   "outputs": [],
   "source": [
    "// [THIS IS READ-ONLY]\n",
    "import org.antlr.v4.runtime.*\n",
    "import backend.*"
   ]
  },
  {
   "cell_type": "code",
   "execution_count": 4,
   "id": "37b8bef7c1d83e25",
   "metadata": {
    "ExecuteTime": {
     "end_time": "2024-04-14T23:07:28.372342Z",
     "start_time": "2024-04-14T23:07:28.369174Z"
    }
   },
   "outputs": [],
   "source": [
    "// [THIS IS READ-ONLY]\n",
    "fun execute(source:String) {\n",
    "    val errorlistener = object: BaseErrorListener() {\n",
    "        override fun syntaxError(recognizer: Recognizer<*,*>,\n",
    "               offendingSymbol: Any?,\n",
    "               line: Int,\n",
    "               pos: Int,\n",
    "               msg: String,\n",
    "               e: RecognitionException?) {\n",
    "            throw Exception(\"${e} at line:${line}, char:${pos}\")\n",
    "        }\n",
    "    }\n",
    "    val input = CharStreams.fromString(source)\n",
    "    val lexer = PLLexer(input).apply {\n",
    "        removeErrorListeners()\n",
    "        addErrorListener(errorlistener)\n",
    "    }\n",
    "    val tokens = CommonTokenStream(lexer)\n",
    "    val parser = PLParser(tokens).apply {\n",
    "        removeErrorListeners()\n",
    "        addErrorListener(errorlistener)\n",
    "    }    \n",
    "    \n",
    "    try {\n",
    "        val result = parser.program()\n",
    "        result.expr.eval(Runtime())\n",
    "    } catch(e:Exception) {\n",
    "        println(\"Error: ${e}\")\n",
    "    }\n",
    "}"
   ]
  },
  {
   "cell_type": "markdown",
   "id": "b1fa4e2548b59172",
   "metadata": {},
   "source": [
    "## String arithmetics"
   ]
  },
  {
   "cell_type": "code",
   "execution_count": 37,
   "id": "ac2fe768c206073e",
   "metadata": {
    "ExecuteTime": {
     "end_time": "2024-04-14T23:07:28.392429Z",
     "start_time": "2024-04-14T23:07:28.389030Z"
    }
   },
   "outputs": [],
   "source": [
    "// [THIS IS READ-ONLY]\n",
    "val program1 = \"\"\"\n",
    "str x = \"Hello\";\n",
    "str y = \"World\";\n",
    "\n",
    "print(x ++ \" \" ++ y);\n",
    "\"\"\""
   ]
  },
  {
   "cell_type": "code",
   "execution_count": 39,
   "id": "3ba64b13ba14b631",
   "metadata": {
    "ExecuteTime": {
     "end_time": "2024-04-14T23:07:28.425305Z",
     "start_time": "2024-04-14T23:07:28.421939Z"
    }
   },
   "outputs": [
    {
     "name": "stdout",
     "output_type": "stream",
     "text": [
      "Hello World\n"
     ]
    }
   ],
   "source": [
    "// [YOUR WORK HERE]\n",
    "// @workUnit\n",
    "// execute the program\n",
    "\n",
    "execute(program1)"
   ]
  },
  {
   "cell_type": "code",
   "execution_count": 41,
   "id": "9ad12b2a-cb92-4d79-890a-5eb02dc10eb2",
   "metadata": {
    "tags": []
   },
   "outputs": [
    {
     "name": "stdout",
     "output_type": "stream",
     "text": [
      "2.5\n"
     ]
    }
   ],
   "source": [
    "val program1 = \"\"\"\n",
    "int x = 5;\n",
    "int y = 2;\n",
    "\n",
    "print(x / y);\n",
    "\"\"\"\n",
    "execute(program1)"
   ]
  },
  {
   "cell_type": "code",
   "execution_count": null,
   "id": "092aa7c0-b092-4015-ba51-ad185f65c0f5",
   "metadata": {
    "tags": []
   },
   "outputs": [],
   "source": []
  },
  {
   "cell_type": "markdown",
   "id": "d13d8b06d4ed7abc",
   "metadata": {},
   "source": [
    "## Mixed arithmetics"
   ]
  },
  {
   "cell_type": "code",
   "execution_count": 10,
   "id": "89aed1a43ba60274",
   "metadata": {
    "ExecuteTime": {
     "end_time": "2024-04-14T23:07:28.444259Z",
     "start_time": "2024-04-14T23:07:28.441196Z"
    }
   },
   "outputs": [],
   "source": [
    "// [THIS IS READ-ONLY]\n",
    "val program2 = \"\"\"\n",
    "str x = \"woof \";\n",
    "str y = \"Dog goes \" ++ (x * 2);\n",
    "\n",
    "print(y);\n",
    "\"\"\""
   ]
  },
  {
   "cell_type": "code",
   "execution_count": 11,
   "id": "7eb56f73fbe7f0e8",
   "metadata": {
    "ExecuteTime": {
     "end_time": "2024-04-14T23:07:28.445744Z",
     "start_time": "2024-04-14T23:07:28.445620Z"
    }
   },
   "outputs": [
    {
     "name": "stdout",
     "output_type": "stream",
     "text": [
      "Error: java.lang.Exception: null at line:2, char:2\n"
     ]
    }
   ],
   "source": [
    "// [YOUR WORK HERE]\n",
    "// @workUnit\n",
    "\n",
    "execute(program2)"
   ]
  },
  {
   "cell_type": "markdown",
   "id": "cac43d7602878ba",
   "metadata": {},
   "source": [
    "## Loops"
   ]
  },
  {
   "cell_type": "code",
   "execution_count": 13,
   "id": "a1ec2901e91d7956",
   "metadata": {
    "ExecuteTime": {
     "end_time": "2024-04-14T23:07:28.506094Z",
     "start_time": "2024-04-14T23:07:28.503121Z"
    }
   },
   "outputs": [],
   "source": [
    "// [THIS IS READ-ONLY]\n",
    "val program3 = \"\"\"\n",
    "sum = 0\n",
    "for(i in 10..20) {\n",
    "  sum = sum + i;\n",
    "}\n",
    "\n",
    "print(sum)\n",
    "\"\"\""
   ]
  },
  {
   "cell_type": "code",
   "execution_count": 14,
   "id": "a34363231fcfc6d0",
   "metadata": {
    "ExecuteTime": {
     "end_time": "2024-04-14T23:07:28.531111Z",
     "start_time": "2024-04-14T23:07:28.528271Z"
    }
   },
   "outputs": [
    {
     "name": "stdout",
     "output_type": "stream",
     "text": [
      "Error: java.lang.Exception: null at line:2, char:4\n"
     ]
    }
   ],
   "source": [
    "// [YOUR WORK HERE]\n",
    "// @workUnit\n",
    "\n",
    "execute(program3)"
   ]
  },
  {
   "cell_type": "markdown",
   "id": "816d5d90297224f4",
   "metadata": {},
   "source": [
    "## Function"
   ]
  },
  {
   "cell_type": "code",
   "execution_count": 16,
   "id": "bcf04cb7-2ec1-45b6-8bc1-c3b879ca908d",
   "metadata": {
    "tags": []
   },
   "outputs": [
    {
     "name": "stdout",
     "output_type": "stream",
     "text": [
      "Error: java.lang.NullPointerException: Cannot invoke \"java.util.List.add(Object)\" because \"<local1>.list\" is null\n"
     ]
    }
   ],
   "source": [
    "val program4 = \"\"\"\n",
    "function greeting(name, message) {\n",
    "  x = \"Hi,\";\n",
    "  print(x);\n",
    "  print(message);\n",
    "}\n",
    "\n",
    "greeting(\"Albert\");\n",
    "\"\"\"\n",
    "execute(program4)"
   ]
  },
  {
   "cell_type": "code",
   "execution_count": 17,
   "id": "43fdae9ef50c3ff0",
   "metadata": {
    "ExecuteTime": {
     "end_time": "2024-04-14T23:07:28.581420Z",
     "start_time": "2024-04-14T23:07:28.577603Z"
    }
   },
   "outputs": [],
   "source": [
    "// [THIS IS READ-ONLY]\n",
    "val program4 = \"\"\"\n",
    "function greeting(name, message) {\n",
    "  x = \"Hi,\";\n",
    "  x = x ++ \" my name is \" ++ name ++ \".\";\n",
    "  print(x);\n",
    "  print(message);\n",
    "}\n",
    "\n",
    "greeting(\"Albert\", \"How are you?\");\n",
    "\"\"\""
   ]
  },
  {
   "cell_type": "code",
   "execution_count": 18,
   "id": "de433e78528f78",
   "metadata": {
    "ExecuteTime": {
     "end_time": "2024-04-14T23:07:28.595604Z",
     "start_time": "2024-04-14T23:07:28.592350Z"
    }
   },
   "outputs": [
    {
     "name": "stdout",
     "output_type": "stream",
     "text": [
      "Error: java.lang.NullPointerException: Cannot invoke \"java.util.List.add(Object)\" because \"<local1>.list\" is null\n"
     ]
    }
   ],
   "source": [
    "// [YOUR WORK HERE]\n",
    "// @workUnit\n",
    "\n",
    "execute(program4)"
   ]
  },
  {
   "cell_type": "markdown",
   "id": "2c3c9ebf8bcba3d6",
   "metadata": {},
   "source": [
    "## Recursion"
   ]
  },
  {
   "cell_type": "code",
   "execution_count": 20,
   "id": "60b166682aee9fa7",
   "metadata": {
    "ExecuteTime": {
     "end_time": "2024-04-14T23:07:28.605833Z",
     "start_time": "2024-04-14T23:07:28.602893Z"
    },
    "tags": []
   },
   "outputs": [],
   "source": [
    "// [THIS IS READ-ONLY]\n",
    "val program5 = \"\"\"\n",
    "function factorial(n) {\n",
    "  if(n < 2) {\n",
    "    1;\n",
    "  } else {\n",
    "    n * factorial(n-1);\n",
    "  }\n",
    "}\n",
    "\n",
    "print(factorial(10));\n",
    "\"\"\""
   ]
  }
 ],
 "metadata": {
  "kernelspec": {
   "display_name": "Kotlin",
   "language": "kotlin",
   "name": "kotlin"
  },
  "language_info": {
   "codemirror_mode": "text/x-kotlin",
   "file_extension": ".kt",
   "mimetype": "text/x-kotlin",
   "name": "kotlin",
   "nbconvert_exporter": "",
   "pygments_lexer": "kotlin",
   "version": "1.9.10"
  }
 },
 "nbformat": 4,
 "nbformat_minor": 5
}
